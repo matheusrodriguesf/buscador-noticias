{
 "cells": [
  {
   "cell_type": "code",
   "execution_count": 19,
   "id": "94c0bc48",
   "metadata": {},
   "outputs": [
    {
     "name": "stdout",
     "output_type": "stream",
     "text": [
      "Requirement already satisfied: newspaper3k in /home/matheus/anaconda3/lib/python3.9/site-packages (0.2.8)\n",
      "Requirement already satisfied: python-dateutil>=2.5.3 in /home/matheus/anaconda3/lib/python3.9/site-packages (from newspaper3k) (2.8.2)\n",
      "Requirement already satisfied: tldextract>=2.0.1 in /home/matheus/anaconda3/lib/python3.9/site-packages (from newspaper3k) (3.2.0)\n",
      "Requirement already satisfied: tinysegmenter==0.3 in /home/matheus/anaconda3/lib/python3.9/site-packages (from newspaper3k) (0.3)\n",
      "Requirement already satisfied: beautifulsoup4>=4.4.1 in /home/matheus/anaconda3/lib/python3.9/site-packages (from newspaper3k) (4.11.1)\n",
      "Requirement already satisfied: cssselect>=0.9.2 in /home/matheus/anaconda3/lib/python3.9/site-packages (from newspaper3k) (1.1.0)\n",
      "Requirement already satisfied: requests>=2.10.0 in /home/matheus/anaconda3/lib/python3.9/site-packages (from newspaper3k) (2.28.1)\n",
      "Requirement already satisfied: feedfinder2>=0.0.4 in /home/matheus/anaconda3/lib/python3.9/site-packages (from newspaper3k) (0.0.4)\n",
      "Requirement already satisfied: PyYAML>=3.11 in /home/matheus/anaconda3/lib/python3.9/site-packages (from newspaper3k) (6.0)\n",
      "Requirement already satisfied: Pillow>=3.3.0 in /home/matheus/anaconda3/lib/python3.9/site-packages (from newspaper3k) (9.2.0)\n",
      "Requirement already satisfied: feedparser>=5.2.1 in /home/matheus/anaconda3/lib/python3.9/site-packages (from newspaper3k) (6.0.10)\n",
      "Requirement already satisfied: jieba3k>=0.35.1 in /home/matheus/anaconda3/lib/python3.9/site-packages (from newspaper3k) (0.35.1)\n",
      "Requirement already satisfied: nltk>=3.2.1 in /home/matheus/anaconda3/lib/python3.9/site-packages (from newspaper3k) (3.7)\n",
      "Requirement already satisfied: lxml>=3.6.0 in /home/matheus/anaconda3/lib/python3.9/site-packages (from newspaper3k) (4.9.1)\n",
      "Requirement already satisfied: soupsieve>1.2 in /home/matheus/anaconda3/lib/python3.9/site-packages (from beautifulsoup4>=4.4.1->newspaper3k) (2.3.1)\n",
      "Requirement already satisfied: six in /home/matheus/anaconda3/lib/python3.9/site-packages (from feedfinder2>=0.0.4->newspaper3k) (1.16.0)\n",
      "Requirement already satisfied: sgmllib3k in /home/matheus/anaconda3/lib/python3.9/site-packages (from feedparser>=5.2.1->newspaper3k) (1.0.0)\n",
      "Requirement already satisfied: regex>=2021.8.3 in /home/matheus/anaconda3/lib/python3.9/site-packages (from nltk>=3.2.1->newspaper3k) (2022.7.9)\n",
      "Requirement already satisfied: tqdm in /home/matheus/anaconda3/lib/python3.9/site-packages (from nltk>=3.2.1->newspaper3k) (4.64.1)\n",
      "Requirement already satisfied: click in /home/matheus/anaconda3/lib/python3.9/site-packages (from nltk>=3.2.1->newspaper3k) (8.0.4)\n",
      "Requirement already satisfied: joblib in /home/matheus/anaconda3/lib/python3.9/site-packages (from nltk>=3.2.1->newspaper3k) (1.1.0)\n",
      "Requirement already satisfied: certifi>=2017.4.17 in /home/matheus/anaconda3/lib/python3.9/site-packages (from requests>=2.10.0->newspaper3k) (2022.9.14)\n",
      "Requirement already satisfied: urllib3<1.27,>=1.21.1 in /home/matheus/anaconda3/lib/python3.9/site-packages (from requests>=2.10.0->newspaper3k) (1.26.11)\n",
      "Requirement already satisfied: charset-normalizer<3,>=2 in /home/matheus/anaconda3/lib/python3.9/site-packages (from requests>=2.10.0->newspaper3k) (2.0.4)\n",
      "Requirement already satisfied: idna<4,>=2.5 in /home/matheus/anaconda3/lib/python3.9/site-packages (from requests>=2.10.0->newspaper3k) (3.3)\n",
      "Requirement already satisfied: requests-file>=1.4 in /home/matheus/anaconda3/lib/python3.9/site-packages (from tldextract>=2.0.1->newspaper3k) (1.5.1)\n",
      "Requirement already satisfied: filelock>=3.0.8 in /home/matheus/anaconda3/lib/python3.9/site-packages (from tldextract>=2.0.1->newspaper3k) (3.6.0)\n",
      "Collecting gnews\n",
      "  Downloading gnews-0.3.1-py3-none-any.whl (16 kB)\n",
      "Collecting python-dotenv~=0.19.0\n",
      "  Downloading python_dotenv-0.19.2-py2.py3-none-any.whl (17 kB)\n",
      "Collecting beautifulsoup4~=4.9.3\n",
      "  Downloading beautifulsoup4-4.9.3-py3-none-any.whl (115 kB)\n",
      "\u001b[2K     \u001b[38;2;114;156;31m━━━━━━━━━━━━━━━━━━━━━━━━━━━━━━━━━━━━━━━\u001b[0m \u001b[32m115.8/115.8 kB\u001b[0m \u001b[31m2.2 MB/s\u001b[0m eta \u001b[36m0:00:00\u001b[0m MB/s\u001b[0m eta \u001b[36m0:00:01\u001b[0m\n",
      "\u001b[?25hCollecting requests==2.26.0\n",
      "  Downloading requests-2.26.0-py2.py3-none-any.whl (62 kB)\n",
      "\u001b[2K     \u001b[38;2;114;156;31m━━━━━━━━━━━━━━━━━━━━━━━━━━━━━━━━━━━━━━━━\u001b[0m \u001b[32m62.3/62.3 kB\u001b[0m \u001b[31m9.4 MB/s\u001b[0m eta \u001b[36m0:00:00\u001b[0m\n",
      "\u001b[?25hCollecting dnspython~=1.16.0\n",
      "  Downloading dnspython-1.16.0-py2.py3-none-any.whl (188 kB)\n",
      "\u001b[2K     \u001b[38;2;114;156;31m━━━━━━━━━━━━━━━━━━━━━━━━━━━━━━━━━━━━━━━\u001b[0m \u001b[32m188.4/188.4 kB\u001b[0m \u001b[31m6.8 MB/s\u001b[0m eta \u001b[36m0:00:00\u001b[0m\n",
      "\u001b[?25hCollecting bs4~=0.0.1\n",
      "  Downloading bs4-0.0.1.tar.gz (1.1 kB)\n",
      "  Preparing metadata (setup.py) ... \u001b[?25ldone\n",
      "\u001b[?25hRequirement already satisfied: feedparser~=6.0.2 in /home/matheus/anaconda3/lib/python3.9/site-packages (from gnews) (6.0.10)\n",
      "Collecting pymongo~=3.12.0\n",
      "  Downloading pymongo-3.12.3-cp39-cp39-manylinux_2_17_x86_64.manylinux2014_x86_64.whl (516 kB)\n",
      "\u001b[2K     \u001b[38;2;114;156;31m━━━━━━━━━━━━━━━━━━━━━━━━━━━━━━━━━━━━━━\u001b[0m \u001b[32m516.3/516.3 kB\u001b[0m \u001b[31m10.9 MB/s\u001b[0m eta \u001b[36m0:00:00\u001b[0m MB/s\u001b[0m eta \u001b[36m0:00:01\u001b[0m\n",
      "\u001b[?25hRequirement already satisfied: charset-normalizer~=2.0.0 in /home/matheus/anaconda3/lib/python3.9/site-packages (from requests==2.26.0->gnews) (2.0.4)\n",
      "Requirement already satisfied: certifi>=2017.4.17 in /home/matheus/anaconda3/lib/python3.9/site-packages (from requests==2.26.0->gnews) (2022.9.14)\n",
      "Requirement already satisfied: idna<4,>=2.5 in /home/matheus/anaconda3/lib/python3.9/site-packages (from requests==2.26.0->gnews) (3.3)\n",
      "Requirement already satisfied: urllib3<1.27,>=1.21.1 in /home/matheus/anaconda3/lib/python3.9/site-packages (from requests==2.26.0->gnews) (1.26.11)\n",
      "Requirement already satisfied: soupsieve>1.2 in /home/matheus/anaconda3/lib/python3.9/site-packages (from beautifulsoup4~=4.9.3->gnews) (2.3.1)\n",
      "Requirement already satisfied: sgmllib3k in /home/matheus/anaconda3/lib/python3.9/site-packages (from feedparser~=6.0.2->gnews) (1.0.0)\n",
      "Building wheels for collected packages: bs4\n",
      "  Building wheel for bs4 (setup.py) ... \u001b[?25ldone\n",
      "\u001b[?25h  Created wheel for bs4: filename=bs4-0.0.1-py3-none-any.whl size=1257 sha256=e78e77f22e1cdd78384ec765cc90cf2b5b659afdba27d37455ae2231a4d52ef8\n",
      "  Stored in directory: /home/matheus/.cache/pip/wheels/73/2b/cb/099980278a0c9a3e57ff1a89875ec07bfa0b6fcbebb9a8cad3\n",
      "Successfully built bs4\n",
      "Installing collected packages: requests, python-dotenv, pymongo, dnspython, beautifulsoup4, bs4, gnews\n",
      "  Attempting uninstall: requests\n",
      "    Found existing installation: requests 2.28.1\n",
      "    Uninstalling requests-2.28.1:\n",
      "      Successfully uninstalled requests-2.28.1\n",
      "  Attempting uninstall: beautifulsoup4\n",
      "    Found existing installation: beautifulsoup4 4.11.1\n",
      "    Uninstalling beautifulsoup4-4.11.1:\n",
      "      Successfully uninstalled beautifulsoup4-4.11.1\n",
      "\u001b[31mERROR: pip's dependency resolver does not currently take into account all the packages that are installed. This behaviour is the source of the following dependency conflicts.\n",
      "anaconda-project 0.11.1 requires ruamel-yaml, which is not installed.\n",
      "yfinance 0.2.18 requires beautifulsoup4>=4.11.1, but you have beautifulsoup4 4.9.3 which is incompatible.\n",
      "conda-repo-cli 1.0.20 requires clyent==1.2.1, but you have clyent 1.2.2 which is incompatible.\n",
      "conda-repo-cli 1.0.20 requires nbformat==5.4.0, but you have nbformat 5.5.0 which is incompatible.\n",
      "conda-repo-cli 1.0.20 requires requests==2.28.1, but you have requests 2.26.0 which is incompatible.\u001b[0m\u001b[31m\n",
      "\u001b[0mSuccessfully installed beautifulsoup4-4.9.3 bs4-0.0.1 dnspython-1.16.0 gnews-0.3.1 pymongo-3.12.3 python-dotenv-0.19.2 requests-2.26.0\n"
     ]
    }
   ],
   "source": [
    "!pip install newspaper3k\n",
    "!pip install gnews\n",
    "!pip install elasticsearch"
   ]
  },
  {
   "cell_type": "code",
   "execution_count": 1,
   "id": "7b699ad1",
   "metadata": {},
   "outputs": [
    {
     "name": "stderr",
     "output_type": "stream",
     "text": [
      "09/22/2023 09:35:11 AM - Note: NumExpr detected 16 cores but \"NUMEXPR_MAX_THREADS\" not set, so enforcing safe limit of 8.\n",
      "09/22/2023 09:35:11 AM - NumExpr defaulting to 8 threads.\n"
     ]
    }
   ],
   "source": [
    "from gnews import GNews\n",
    "from newspaper import Article\n",
    "import pandas as pd\n",
    "import datetime"
   ]
  },
  {
   "cell_type": "code",
   "execution_count": 2,
   "id": "11db5f6f",
   "metadata": {},
   "outputs": [],
   "source": [
    "google_news = GNews(language='BR', country='Brazil', period='7d')"
   ]
  },
  {
   "cell_type": "code",
   "execution_count": 3,
   "id": "13eb54ae",
   "metadata": {},
   "outputs": [],
   "source": [
    "result = google_news.get_news('futebol')"
   ]
  },
  {
   "cell_type": "code",
   "execution_count": 4,
   "id": "7b6f7e55",
   "metadata": {},
   "outputs": [],
   "source": [
    "df = pd.DataFrame(result)"
   ]
  },
  {
   "cell_type": "code",
   "execution_count": 5,
   "id": "9cacb8de",
   "metadata": {},
   "outputs": [],
   "source": [
    "links = df['url']"
   ]
  },
  {
   "cell_type": "code",
   "execution_count": 6,
   "id": "7f5da443",
   "metadata": {},
   "outputs": [],
   "source": [
    "def get_text_document(url):\n",
    "    article_name = Article(url, language=\"pt\")\n",
    "    article_name.download()\n",
    "    article_name.parse()\n",
    "    doc = {\n",
    "        'title': article_name.title,\n",
    "        'text': article_name.text,\n",
    "        'url': article_name.url,\n",
    "        'keywords':article_name.keywords,\n",
    "    }\n",
    "    return doc"
   ]
  },
  {
   "cell_type": "code",
   "execution_count": 7,
   "id": "2f8a3446",
   "metadata": {},
   "outputs": [],
   "source": [
    "from elasticsearch import Elasticsearch\n",
    "es = Elasticsearch(hosts='http://localhost:9200')"
   ]
  },
  {
   "cell_type": "code",
   "execution_count": 8,
   "id": "7b5d7d8f",
   "metadata": {},
   "outputs": [],
   "source": [
    "def index_data(index_name, document):\n",
    "    resp = es.index(index=index_name, document=document)\n",
    "    print(resp['result'])\n",
    "    return resp"
   ]
  },
  {
   "cell_type": "code",
   "execution_count": null,
   "id": "025206ff",
   "metadata": {},
   "outputs": [
    {
     "name": "stderr",
     "output_type": "stream",
     "text": [
      "09/22/2023 09:35:53 AM - POST http://localhost:9200/news/_doc [status:201 duration:0.005s]\n"
     ]
    },
    {
     "name": "stdout",
     "output_type": "stream",
     "text": [
      "created\n"
     ]
    },
    {
     "name": "stderr",
     "output_type": "stream",
     "text": [
      "09/22/2023 09:35:54 AM - POST http://localhost:9200/news/_doc [status:201 duration:0.003s]\n"
     ]
    },
    {
     "name": "stdout",
     "output_type": "stream",
     "text": [
      "created\n"
     ]
    },
    {
     "name": "stderr",
     "output_type": "stream",
     "text": [
      "09/22/2023 09:35:57 AM - POST http://localhost:9200/news/_doc [status:201 duration:0.004s]\n"
     ]
    },
    {
     "name": "stdout",
     "output_type": "stream",
     "text": [
      "created\n"
     ]
    },
    {
     "name": "stderr",
     "output_type": "stream",
     "text": [
      "09/22/2023 09:35:57 AM - POST http://localhost:9200/news/_doc [status:201 duration:0.004s]\n"
     ]
    },
    {
     "name": "stdout",
     "output_type": "stream",
     "text": [
      "created\n"
     ]
    },
    {
     "name": "stderr",
     "output_type": "stream",
     "text": [
      "09/22/2023 09:35:58 AM - POST http://localhost:9200/news/_doc [status:201 duration:0.003s]\n"
     ]
    },
    {
     "name": "stdout",
     "output_type": "stream",
     "text": [
      "created\n"
     ]
    },
    {
     "name": "stderr",
     "output_type": "stream",
     "text": [
      "09/22/2023 09:35:59 AM - POST http://localhost:9200/news/_doc [status:201 duration:0.003s]\n"
     ]
    },
    {
     "name": "stdout",
     "output_type": "stream",
     "text": [
      "created\n"
     ]
    },
    {
     "name": "stderr",
     "output_type": "stream",
     "text": [
      "09/22/2023 09:36:00 AM - POST http://localhost:9200/news/_doc [status:201 duration:0.003s]\n"
     ]
    },
    {
     "name": "stdout",
     "output_type": "stream",
     "text": [
      "created\n"
     ]
    },
    {
     "name": "stderr",
     "output_type": "stream",
     "text": [
      "09/22/2023 09:36:01 AM - POST http://localhost:9200/news/_doc [status:201 duration:0.003s]\n"
     ]
    },
    {
     "name": "stdout",
     "output_type": "stream",
     "text": [
      "created\n"
     ]
    },
    {
     "name": "stderr",
     "output_type": "stream",
     "text": [
      "09/22/2023 09:36:02 AM - POST http://localhost:9200/news/_doc [status:201 duration:0.003s]\n"
     ]
    },
    {
     "name": "stdout",
     "output_type": "stream",
     "text": [
      "created\n"
     ]
    },
    {
     "name": "stderr",
     "output_type": "stream",
     "text": [
      "09/22/2023 09:36:02 AM - POST http://localhost:9200/news/_doc [status:201 duration:0.004s]\n"
     ]
    },
    {
     "name": "stdout",
     "output_type": "stream",
     "text": [
      "created\n"
     ]
    },
    {
     "name": "stderr",
     "output_type": "stream",
     "text": [
      "09/22/2023 09:36:03 AM - POST http://localhost:9200/news/_doc [status:201 duration:0.003s]\n"
     ]
    },
    {
     "name": "stdout",
     "output_type": "stream",
     "text": [
      "created\n"
     ]
    },
    {
     "name": "stderr",
     "output_type": "stream",
     "text": [
      "09/22/2023 09:36:04 AM - POST http://localhost:9200/news/_doc [status:201 duration:0.004s]\n"
     ]
    },
    {
     "name": "stdout",
     "output_type": "stream",
     "text": [
      "created\n"
     ]
    },
    {
     "name": "stderr",
     "output_type": "stream",
     "text": [
      "09/22/2023 09:36:08 AM - POST http://localhost:9200/news/_doc [status:201 duration:0.004s]\n"
     ]
    },
    {
     "name": "stdout",
     "output_type": "stream",
     "text": [
      "created\n"
     ]
    },
    {
     "name": "stderr",
     "output_type": "stream",
     "text": [
      "09/22/2023 09:36:09 AM - POST http://localhost:9200/news/_doc [status:201 duration:0.004s]\n"
     ]
    },
    {
     "name": "stdout",
     "output_type": "stream",
     "text": [
      "created\n"
     ]
    },
    {
     "name": "stderr",
     "output_type": "stream",
     "text": [
      "09/22/2023 09:36:12 AM - POST http://localhost:9200/news/_doc [status:201 duration:0.005s]\n"
     ]
    },
    {
     "name": "stdout",
     "output_type": "stream",
     "text": [
      "created\n"
     ]
    },
    {
     "name": "stderr",
     "output_type": "stream",
     "text": [
      "09/22/2023 09:36:14 AM - POST http://localhost:9200/news/_doc [status:201 duration:0.003s]\n"
     ]
    },
    {
     "name": "stdout",
     "output_type": "stream",
     "text": [
      "created\n"
     ]
    },
    {
     "name": "stderr",
     "output_type": "stream",
     "text": [
      "09/22/2023 09:36:14 AM - POST http://localhost:9200/news/_doc [status:201 duration:0.003s]\n"
     ]
    },
    {
     "name": "stdout",
     "output_type": "stream",
     "text": [
      "created\n"
     ]
    },
    {
     "name": "stderr",
     "output_type": "stream",
     "text": [
      "09/22/2023 09:36:16 AM - POST http://localhost:9200/news/_doc [status:201 duration:0.004s]\n"
     ]
    },
    {
     "name": "stdout",
     "output_type": "stream",
     "text": [
      "created\n"
     ]
    },
    {
     "name": "stderr",
     "output_type": "stream",
     "text": [
      "09/22/2023 09:36:21 AM - POST http://localhost:9200/news/_doc [status:201 duration:0.004s]\n"
     ]
    },
    {
     "name": "stdout",
     "output_type": "stream",
     "text": [
      "created\n"
     ]
    },
    {
     "name": "stderr",
     "output_type": "stream",
     "text": [
      "09/22/2023 09:36:22 AM - POST http://localhost:9200/news/_doc [status:201 duration:0.004s]\n"
     ]
    },
    {
     "name": "stdout",
     "output_type": "stream",
     "text": [
      "created\n"
     ]
    },
    {
     "name": "stderr",
     "output_type": "stream",
     "text": [
      "09/22/2023 09:36:23 AM - POST http://localhost:9200/news/_doc [status:201 duration:0.004s]\n"
     ]
    },
    {
     "name": "stdout",
     "output_type": "stream",
     "text": [
      "created\n"
     ]
    },
    {
     "name": "stderr",
     "output_type": "stream",
     "text": [
      "09/22/2023 09:36:26 AM - POST http://localhost:9200/news/_doc [status:201 duration:0.003s]\n"
     ]
    },
    {
     "name": "stdout",
     "output_type": "stream",
     "text": [
      "created\n"
     ]
    },
    {
     "name": "stderr",
     "output_type": "stream",
     "text": [
      "09/22/2023 09:36:28 AM - POST http://localhost:9200/news/_doc [status:201 duration:0.004s]\n"
     ]
    },
    {
     "name": "stdout",
     "output_type": "stream",
     "text": [
      "created\n"
     ]
    },
    {
     "name": "stderr",
     "output_type": "stream",
     "text": [
      "09/22/2023 09:36:31 AM - POST http://localhost:9200/news/_doc [status:201 duration:0.004s]\n"
     ]
    },
    {
     "name": "stdout",
     "output_type": "stream",
     "text": [
      "created\n",
      "Erro ao processar a URL https://news.google.com/rss/articles/CBMiYWh0dHBzOi8vd3d3LmVzcGFjb3ZpdGFsLmNvbS5ici9wdWJsaWNhY2FvLTQwNTc0LWEtaW1wcnVkZW50ZS1kZXN2YWxvcml6YWNhby1kby1mdXRlYm9sLWJyYXNpbGVpcm_SAQA?oc=5&hl=en-US&gl=US&ceid=US:en: Article `download()` failed with HTTPSConnectionPool(host='www.espacovital.com.br', port=443): Max retries exceeded with url: /publicacao-40574-a-imprudente-desvalorizacao-do-futebol-brasileiro (Caused by SSLError(SSLCertVerificationError(1, '[SSL: CERTIFICATE_VERIFY_FAILED] certificate verify failed: unable to get local issuer certificate (_ssl.c:1129)'))) on URL https://news.google.com/rss/articles/CBMiYWh0dHBzOi8vd3d3LmVzcGFjb3ZpdGFsLmNvbS5ici9wdWJsaWNhY2FvLTQwNTc0LWEtaW1wcnVkZW50ZS1kZXN2YWxvcml6YWNhby1kby1mdXRlYm9sLWJyYXNpbGVpcm_SAQA?oc=5&hl=en-US&gl=US&ceid=US:en\n"
     ]
    },
    {
     "name": "stderr",
     "output_type": "stream",
     "text": [
      "09/22/2023 09:36:34 AM - POST http://localhost:9200/news/_doc [status:201 duration:0.004s]\n"
     ]
    },
    {
     "name": "stdout",
     "output_type": "stream",
     "text": [
      "created\n"
     ]
    }
   ],
   "source": [
    "for url in links:\n",
    "    try:\n",
    "        doc = get_text_document(url)\n",
    "        index_data(index_name='news', document=doc)\n",
    "    except Exception as e:\n",
    "        print(f\"Erro ao processar a URL {url}: {str(e)}\")"
   ]
  },
  {
   "cell_type": "code",
   "execution_count": null,
   "id": "dca6fdb1",
   "metadata": {},
   "outputs": [],
   "source": []
  }
 ],
 "metadata": {
  "kernelspec": {
   "display_name": "Python 3 (ipykernel)",
   "language": "python",
   "name": "python3"
  },
  "language_info": {
   "codemirror_mode": {
    "name": "ipython",
    "version": 3
   },
   "file_extension": ".py",
   "mimetype": "text/x-python",
   "name": "python",
   "nbconvert_exporter": "python",
   "pygments_lexer": "ipython3",
   "version": "3.9.13"
  }
 },
 "nbformat": 4,
 "nbformat_minor": 5
}
